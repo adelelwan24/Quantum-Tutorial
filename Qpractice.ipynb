{
 "cells": [
  {
   "cell_type": "markdown",
   "id": "fafcdd58",
   "metadata": {},
   "source": [
    "# $$ Quantum \\space Computing $$"
   ]
  },
  {
   "cell_type": "markdown",
   "id": "2047f94a",
   "metadata": {},
   "source": [
    "***Quantum computin***g uses specialized technology—including computer hardware and algorithms that take advantage of quantum mechanics—to solve complex problems that classical computers or supercomputers can’t solve, or can’t solve quickly enough.\n",
    "\n",
    "It uses quantum bits, or **qubits**, A qubit is a two-state quantum-mechanical system.\n",
    "- A two-state quantum system, also known as a two-level system, is a fundamental concept in quantum mechanics. It refers to a system that can exist in exactly two distinct quantum states at any given time.\n",
    "- A qubit can exist in a superposition of its two “basis” states, unlike a classical bit that can only represent either zero or one.\n",
    "- Qubits can represent any combination of both zero and one simultaneously, creating complex, multidimensional computational spaces.\n",
    "\n",
    "\n",
    "---"
   ]
  },
  {
   "cell_type": "code",
   "execution_count": 2,
   "id": "0b41d43b-5218-41f4-85f4-b3100ce4b849",
   "metadata": {},
   "outputs": [],
   "source": [
    "import numpy as np\n",
    "import math"
   ]
  },
  {
   "cell_type": "code",
   "execution_count": 3,
   "id": "245272d0-4957-4771-9c0c-718394848c12",
   "metadata": {},
   "outputs": [],
   "source": [
    "from qiskit.circuit.library import (\n",
    "                                XGate, ZGate, YGate, HGate,\n",
    "                                RXGate, RYGate, RZGate\n",
    "                                    )\n",
    "from qiskit.visualization import array_to_latex"
   ]
  },
  {
   "cell_type": "markdown",
   "id": "26a0af20",
   "metadata": {},
   "source": [
    "## Basics"
   ]
  },
  {
   "cell_type": "markdown",
   "id": "6d2a75ce",
   "metadata": {},
   "source": [
    "A pure qubit state is a coherent superposition of the basis states. This means that a single qubit (\n",
    "${ \\psi }$) can be described by a linear combination of ${ |0\\rangle }$ and ${ |1\\rangle }$:\n",
    "\n",
    "$${ |\\psi \\rangle =\\alpha |0\\rangle +\\beta |1\\rangle } = \n",
    "    \\begin{bmatrix} \n",
    "    \\alpha \\\\\n",
    "    \\beta\n",
    "    \\end{bmatrix}$$\n",
    "where α and β are the probability amplitudes, and are both complex numbers. When we measure this qubit in the standard basis, according to the Born rule, the probability of outcome \n",
    "${ |0\\rangle }$ with value \"0\" is ${ |\\alpha |^{2}}$ and the probability of outcome ${ |1\\rangle }$ with value \"1\" is \n",
    "${ |\\beta |^{2}}$. Because the **absolute squares of the amplitudes equate to probabilities**, it follows that \n",
    "${ \\alpha }$ and ${ \\beta }$ must be constrained according to the **$Normalization \\space Equation:$**\n",
    "$${ |\\alpha |^{2}+|\\beta |^{2}=1.}$$"
   ]
  },
  {
   "cell_type": "code",
   "execution_count": 45,
   "id": "b659a443-226a-4687-80b9-af72390ddd95",
   "metadata": {},
   "outputs": [
    {
     "name": "stdout",
     "output_type": "stream",
     "text": [
      "(2, 1)\n"
     ]
    },
    {
     "data": {
      "text/latex": [
       "$$\n",
       "Ground \\space State = Zero \\space Vector = |0\\rangle= \n",
       "\\begin{bmatrix}\n",
       "1  \\\\\n",
       " 0  \\\\\n",
       " \\end{bmatrix}\n",
       "$$"
      ],
      "text/plain": [
       "<IPython.core.display.Latex object>"
      ]
     },
     "execution_count": 45,
     "metadata": {},
     "output_type": "execute_result"
    }
   ],
   "source": [
    "zero_vector = np.array([[1], [0]])\n",
    "print(zero_vector.shape)\n",
    "array_to_latex(zero_vector, prefix=r'Ground \\space State = Zero \\space Vector = |0\\rangle= ')"
   ]
  },
  {
   "cell_type": "code",
   "execution_count": 47,
   "id": "b2a3625f-18cb-4f2c-b9d6-9e52bd5f1048",
   "metadata": {},
   "outputs": [
    {
     "data": {
      "text/latex": [
       "$$\n",
       "Excited \\space State = One \\space Vector = |1\\rangle= \n",
       "\\begin{bmatrix}\n",
       "0  \\\\\n",
       " 1  \\\\\n",
       " \\end{bmatrix}\n",
       "$$"
      ],
      "text/plain": [
       "<IPython.core.display.Latex object>"
      ]
     },
     "execution_count": 47,
     "metadata": {},
     "output_type": "execute_result"
    }
   ],
   "source": [
    "one_vector = np.array([0, 1]).reshape(2, 1)\n",
    "array_to_latex(one_vector, prefix=r'Excited \\space State = One \\space Vector = |1\\rangle= ')"
   ]
  },
  {
   "cell_type": "markdown",
   "id": "b5f280b8",
   "metadata": {},
   "source": [
    "### Dirac Notation (Bra-Ket Notation) [More](https://www.mathsisfun.com/physics/bra-ket-notation.html)\n",
    "- Notation for linear algebraa and linear operators on complex vector spaces in both finite and infinite dimentins.\n",
    "- Notaiont to refere to a vector with complex elements with any number of dimentions."
   ]
  },
  {
   "cell_type": "markdown",
   "id": "e72236de",
   "metadata": {},
   "source": [
    "ket is defined as $|x \\rangle$"
   ]
  },
  {
   "cell_type": "code",
   "execution_count": 6,
   "id": "43e0c739",
   "metadata": {},
   "outputs": [
    {
     "data": {
      "text/latex": [
       "$$\n",
       "|1\\rangle = \n",
       "\\begin{bmatrix}\n",
       "0  \\\\\n",
       " 1  \\\\\n",
       " \\end{bmatrix}\n",
       "$$"
      ],
      "text/plain": [
       "<IPython.core.display.Latex object>"
      ]
     },
     "execution_count": 6,
     "metadata": {},
     "output_type": "execute_result"
    }
   ],
   "source": [
    "array_to_latex(one_vector, prefix=r'|1\\rangle = ')"
   ]
  },
  {
   "cell_type": "markdown",
   "id": "cc3797e5",
   "metadata": {},
   "source": [
    "Bra is defined as $\\langle x|$"
   ]
  },
  {
   "cell_type": "code",
   "execution_count": 7,
   "id": "24446633",
   "metadata": {},
   "outputs": [
    {
     "data": {
      "text/latex": [
       "$$\n",
       "\\langle1| = \n",
       "\\begin{bmatrix}\n",
       "0 & 1  \\\\\n",
       " \\end{bmatrix}\n",
       "$$"
      ],
      "text/plain": [
       "<IPython.core.display.Latex object>"
      ]
     },
     "execution_count": 7,
     "metadata": {},
     "output_type": "execute_result"
    }
   ],
   "source": [
    "array_to_latex(one_vector.conj().T, prefix=r'\\langle1| = ')"
   ]
  },
  {
   "cell_type": "markdown",
   "id": "26156fdb",
   "metadata": {},
   "source": [
    "Inner Product(Dot) is defined as $\\langle \\psi_1| \\psi_2 \\rangle$\n",
    "- Represent the similarity between $|\\psi_1\\rangle , |\\psi_2\\rangle$\n",
    "- ${\\langle \\psi |\\psi \\rangle = 1}$, or equivalently ${ {\\big \\|}|\\psi \\rangle {\\big \\|}^{2}=1}$\n",
    "- dot(x.conj().T, y) == vdot(x, y)"
   ]
  },
  {
   "cell_type": "code",
   "execution_count": 8,
   "id": "5b3af45c",
   "metadata": {},
   "outputs": [
    {
     "data": {
      "text/plain": [
       "array([[0]])"
      ]
     },
     "execution_count": 8,
     "metadata": {},
     "output_type": "execute_result"
    }
   ],
   "source": [
    "np.dot(zero_vector.conj().T, one_vector)"
   ]
  },
  {
   "cell_type": "code",
   "execution_count": 9,
   "id": "5aee9fde",
   "metadata": {},
   "outputs": [
    {
     "data": {
      "text/plain": [
       "0"
      ]
     },
     "execution_count": 9,
     "metadata": {},
     "output_type": "execute_result"
    }
   ],
   "source": [
    "np.vdot(zero_vector, one_vector)"
   ]
  },
  {
   "cell_type": "markdown",
   "id": "f1b16408",
   "metadata": {},
   "source": [
    "Cross Product is defined as $|\\psi_1\\rangle\\langle\\psi_2|$\n",
    "- Represent (Matrix - Operator - Gate)\n",
    "- called Diagonal Representation | Spectrol Decomposition"
   ]
  },
  {
   "cell_type": "code",
   "execution_count": 10,
   "id": "e5256e51",
   "metadata": {},
   "outputs": [
    {
     "data": {
      "text/latex": [
       "$$\n",
       "|0\\rangle\\langle1| = \n",
       "\\begin{bmatrix}\n",
       "0 & 1  \\\\\n",
       " 0 & 0  \\\\\n",
       " \\end{bmatrix}\n",
       "$$"
      ],
      "text/plain": [
       "<IPython.core.display.Latex object>"
      ]
     },
     "execution_count": 10,
     "metadata": {},
     "output_type": "execute_result"
    }
   ],
   "source": [
    "outer = np.dot(zero_vector, one_vector.conj().T)\n",
    "array_to_latex(outer, prefix=r'|0\\rangle\\langle1| = ')"
   ]
  },
  {
   "cell_type": "code",
   "execution_count": 11,
   "id": "46488eab",
   "metadata": {},
   "outputs": [
    {
     "data": {
      "text/latex": [
       "$$\n",
       "I = |0\\rangle\\langle1| + |1\\rangle\\langle0| = \n",
       "\\begin{bmatrix}\n",
       "0 & 1  \\\\\n",
       " 1 & 0  \\\\\n",
       " \\end{bmatrix}\n",
       "$$"
      ],
      "text/plain": [
       "<IPython.core.display.Latex object>"
      ]
     },
     "execution_count": 11,
     "metadata": {},
     "output_type": "execute_result"
    }
   ],
   "source": [
    "outer_not = np.dot(zero_vector, one_vector.conj().T) + np.dot(one_vector, zero_vector.conj().T)\n",
    "array_to_latex(outer_not, prefix=r'I = |0\\rangle\\langle1| + |1\\rangle\\langle0| = ')"
   ]
  },
  {
   "cell_type": "markdown",
   "id": "4816f19a",
   "metadata": {},
   "source": [
    "## Quantum Gates\n",
    " Quantum gate (matrix or operator) is a basic quantum circuit operating on a small number of qubits. Quantum logic gates are the building blocks of quantum circuits, like classical logic gates are for conventional digital circuits.\n",
    "\n",
    " * Unlike many classical logic gates, quantum logic gates are **`reversible`**. It is possible to perform classical computing using only reversible gates.\n",
    "\n",
    " * Quantum gates are `unitary` operators.\n",
    "\n",
    " * The action of the gate on a specific quantum state is found by multiplying the vector $|\\psi _{1}\\rangle$, which represents the state by the matrix $U$ representing the gate. The result is a new quantum state $|\\psi _{2}\\rangle$:\n",
    "\n",
    "$${ U|\\psi _{1}\\rangle =|\\psi _{2}\\rangle .}$$\n",
    " "
   ]
  },
  {
   "cell_type": "markdown",
   "id": "32c0216b",
   "metadata": {},
   "source": [
    "### Pauli gates (X,Y,Z)\n",
    "-  The three Pauli matrices ${ (\\sigma _{x},\\sigma _{y},\\sigma _{z})}$ act on a single qubit.\n",
    "- The Pauli matrices are **involutory**, meaning that the square of a Pauli matrix is the identity matrix.\n",
    "$${ I^{2}=X^{2}=Y^{2}=Z^{2}=-iXYZ=I}$$"
   ]
  },
  {
   "cell_type": "markdown",
   "id": "7903af8b",
   "metadata": {},
   "source": [
    "$$X-Gate$$\n",
    "- Equivelent to NOT gate in classical computers.\n",
    "- Flips Qubit $\\pi$ radians around X-axis.\n",
    "- Sometimes called **Bit-Flip**."
   ]
  },
  {
   "cell_type": "code",
   "execution_count": 70,
   "id": "a2ee9a3d",
   "metadata": {},
   "outputs": [
    {
     "data": {
      "text/latex": [
       "$$\n",
       "X = \\sigma_x = \\operatorname {NOT} =\n",
       "\\begin{bmatrix}\n",
       "0 & 1  \\\\\n",
       " 1 & 0  \\\\\n",
       " \\end{bmatrix}\n",
       "$$"
      ],
      "text/plain": [
       "<IPython.core.display.Latex object>"
      ]
     },
     "execution_count": 70,
     "metadata": {},
     "output_type": "execute_result"
    }
   ],
   "source": [
    "x_gate = XGate().to_matrix()\n",
    "array_to_latex(x_gate, prefix='X = \\sigma_x = \\operatorname {NOT} =')"
   ]
  },
  {
   "cell_type": "code",
   "execution_count": 66,
   "id": "ab371895",
   "metadata": {},
   "outputs": [
    {
     "data": {
      "text/latex": [
       "$$\n",
       "X |0\\rangle = |1\\rangle = \n",
       "\\begin{bmatrix}\n",
       "0  \\\\\n",
       " 1  \\\\\n",
       " \\end{bmatrix}\n",
       "$$"
      ],
      "text/plain": [
       "<IPython.core.display.Latex object>"
      ]
     },
     "execution_count": 66,
     "metadata": {},
     "output_type": "execute_result"
    }
   ],
   "source": [
    "not0 = x_gate @ zero_vector\n",
    "array_to_latex(not0, prefix='X |0\\\\rangle = |1\\\\rangle = ')"
   ]
  },
  {
   "cell_type": "code",
   "execution_count": 61,
   "id": "4c8270b8",
   "metadata": {},
   "outputs": [
    {
     "data": {
      "text/latex": [
       "$$\n",
       "X |1\\rangle = |0\\rangle = \n",
       "\\begin{bmatrix}\n",
       "1  \\\\\n",
       " 0  \\\\\n",
       " \\end{bmatrix}\n",
       "$$"
      ],
      "text/plain": [
       "<IPython.core.display.Latex object>"
      ]
     },
     "execution_count": 61,
     "metadata": {},
     "output_type": "execute_result"
    }
   ],
   "source": [
    "not1 = x_gate @ one_vector\n",
    "array_to_latex(not1, prefix='X |1\\\\rangle = |0\\\\rangle = ')"
   ]
  },
  {
   "cell_type": "markdown",
   "id": "bc7a06ec",
   "metadata": {},
   "source": [
    "- Performs probability swaping."
   ]
  },
  {
   "cell_type": "code",
   "execution_count": 56,
   "id": "796a6158",
   "metadata": {},
   "outputs": [
    {
     "data": {
      "text/latex": [
       "$$\n",
       "|vec\\rangle = \n",
       "\\begin{bmatrix}\n",
       "0.43  \\\\\n",
       " 0.57  \\\\\n",
       " \\end{bmatrix}\n",
       "$$"
      ],
      "text/plain": [
       "<IPython.core.display.Latex object>"
      ]
     },
     "execution_count": 56,
     "metadata": {},
     "output_type": "execute_result"
    }
   ],
   "source": [
    "vec = [[.43], [.57]]\n",
    "array_to_latex(vec, prefix='|vec\\\\rangle = ')"
   ]
  },
  {
   "cell_type": "code",
   "execution_count": 57,
   "id": "50da7b7f",
   "metadata": {},
   "outputs": [
    {
     "data": {
      "text/latex": [
       "$$\n",
       "X |vec\\rangle =\n",
       "\\begin{bmatrix}\n",
       "0.57  \\\\\n",
       " 0.43  \\\\\n",
       " \\end{bmatrix}\n",
       "$$"
      ],
      "text/plain": [
       "<IPython.core.display.Latex object>"
      ]
     },
     "execution_count": 57,
     "metadata": {},
     "output_type": "execute_result"
    }
   ],
   "source": [
    "vec_x = x_gate @ vec\n",
    "array_to_latex(vec_x, prefix='X |vec\\\\rangle =')"
   ]
  },
  {
   "cell_type": "markdown",
   "id": "a64e1232",
   "metadata": {},
   "source": [
    "$$Y-Gate$$\n",
    "- Flips Qubit $\\pi$ randians around Y-axis."
   ]
  },
  {
   "cell_type": "code",
   "execution_count": 67,
   "id": "a60aea7a",
   "metadata": {},
   "outputs": [
    {
     "data": {
      "text/latex": [
       "$$\n",
       "Y = \\sigma_y = \n",
       "\\begin{bmatrix}\n",
       "0 & - i  \\\\\n",
       " i & 0  \\\\\n",
       " \\end{bmatrix}\n",
       "$$"
      ],
      "text/plain": [
       "<IPython.core.display.Latex object>"
      ]
     },
     "execution_count": 67,
     "metadata": {},
     "output_type": "execute_result"
    }
   ],
   "source": [
    "y_gate = YGate().to_matrix()\n",
    "array_to_latex(y_gate, prefix=\"Y = \\sigma_y = \")"
   ]
  },
  {
   "cell_type": "markdown",
   "id": "01c7066c",
   "metadata": {},
   "source": [
    "$$Z-Gate$$\n",
    "- Flips Qubit $\\pi$ randians around Z-axis.\n",
    "- Sometimes called **Phase-Flip**."
   ]
  },
  {
   "cell_type": "code",
   "execution_count": 68,
   "id": "9504ed1f",
   "metadata": {},
   "outputs": [
    {
     "data": {
      "text/latex": [
       "$$\n",
       "Z = \\sigma_z =\n",
       "\\begin{bmatrix}\n",
       "1 & 0  \\\\\n",
       " 0 & -1  \\\\\n",
       " \\end{bmatrix}\n",
       "$$"
      ],
      "text/plain": [
       "<IPython.core.display.Latex object>"
      ]
     },
     "execution_count": 68,
     "metadata": {},
     "output_type": "execute_result"
    }
   ],
   "source": [
    "z_gate = ZGate().to_matrix()\n",
    "array_to_latex(z_gate, prefix='Z = \\sigma_z =')"
   ]
  },
  {
   "cell_type": "markdown",
   "id": "ff179bc9",
   "metadata": {},
   "source": [
    "### Hadmard Gate\n",
    "$$H-Gate$$\n",
    "\n",
    "The Hadamard or Walsh-Hadamard gate, acts on a single qubit. It maps the basis states \n",
    "$${\\textstyle |0\\rangle \\mapsto {\\frac {|0\\rangle +|1\\rangle }{\\sqrt {2}}}} \\space\\space and \\space\\space\n",
    " {\\textstyle |1\\rangle \\mapsto {\\frac {|0\\rangle -|1\\rangle }{\\sqrt {2}}}}$$ \n",
    "\n",
    "\n",
    "(it creates an `equal` superposition state if given a computational basis state). \n",
    "\n",
    "The two states \n",
    "${ (|0\\rangle +|1\\rangle )/{\\sqrt {2}}}$ and ${ (|0\\rangle -|1\\rangle )/{\\sqrt {2}}}$ are sometimes written \n",
    "${ |+\\rangle }$ and ${ |-\\rangle }$ respectively. \n",
    "\n",
    "The Hadamard gate performs a rotation of \n",
    "${ \\pi }$ about the axis ${ ({\\hat {x}}+{\\hat {z}})/{\\sqrt {2}}}$ at the Bloch sphere, and is therefore **`involutory`**. \n",
    "\n",
    "\n",
    "Circuit representation of Hadamard gate ${ H={\\frac {1}{\\sqrt {2}}}{\\begin{bmatrix}1&1\\\\1&-1\\end{bmatrix}}.}$\n",
    "\n",
    "- Can produce **true random numbers** as it outputs $|1\\rangle, |0\\rangle$ with probability `50%` each.\n",
    "- Used in Quantum Random Number Generator `QRNG`, which usally used in security."
   ]
  },
  {
   "cell_type": "code",
   "execution_count": 73,
   "id": "7e023d1c",
   "metadata": {},
   "outputs": [
    {
     "data": {
      "text/latex": [
       "$$\n",
       "H = \n",
       "\\begin{bmatrix}\n",
       "\\frac{\\sqrt{2}}{2} & \\frac{\\sqrt{2}}{2}  \\\\\n",
       " \\frac{\\sqrt{2}}{2} & - \\frac{\\sqrt{2}}{2}  \\\\\n",
       " \\end{bmatrix}\n",
       "$$"
      ],
      "text/plain": [
       "<IPython.core.display.Latex object>"
      ]
     },
     "execution_count": 73,
     "metadata": {},
     "output_type": "execute_result"
    }
   ],
   "source": [
    "h_gate = HGate().to_matrix()\n",
    "array_to_latex(h_gate, prefix='H = ')"
   ]
  },
  {
   "cell_type": "markdown",
   "id": "9576aef6",
   "metadata": {},
   "source": [
    "### What is the difference between a unitary matrix and a hermitian matrix?"
   ]
  },
  {
   "cell_type": "markdown",
   "id": "50d58ae4",
   "metadata": {},
   "source": [
    "- Unitary Matrix (U): \n",
    "    - square matrix, where the conjugate transpose of a matrix is equal to its inverse. $U^H = U^{\\dagger}= U^{-1}$ $$U^\\dagger U = I$$\n"
   ]
  },
  {
   "cell_type": "code",
   "execution_count": 16,
   "id": "9ccb4d72",
   "metadata": {},
   "outputs": [
    {
     "data": {
      "text/plain": [
       "True"
      ]
     },
     "execution_count": 16,
     "metadata": {},
     "output_type": "execute_result"
    }
   ],
   "source": [
    "np.allclose(np.dot(x_gate, x_gate.conj().T), np.identity(2))"
   ]
  },
  {
   "cell_type": "code",
   "execution_count": 17,
   "id": "4559bdba-64eb-45e9-8dae-c8219d748222",
   "metadata": {},
   "outputs": [
    {
     "data": {
      "text/plain": [
       "True"
      ]
     },
     "execution_count": 17,
     "metadata": {},
     "output_type": "execute_result"
    }
   ],
   "source": [
    "np.allclose(x_gate, np.linalg.inv(x_gate))"
   ]
  },
  {
   "cell_type": "markdown",
   "id": "06227cc4",
   "metadata": {},
   "source": [
    "- Hermition Matrix (H):\n",
    "    - Square matrix, where the conjugate transpose of a matrix is equal to the original. $H^H = H^{\\dagger}= H$\n",
    "    - Has real eigenvalues.\n",
    "    - Has orthogonal eigenvectors (if the eigenvalues are different).\n",
    "    - The set of eignevectors of hermition operator can be used as basis. (Spectral Theorm)"
   ]
  },
  {
   "cell_type": "code",
   "execution_count": 18,
   "id": "5478193d-9d6f-4b52-bfa9-f753deb4662d",
   "metadata": {},
   "outputs": [
    {
     "data": {
      "text/plain": [
       "True"
      ]
     },
     "execution_count": 18,
     "metadata": {},
     "output_type": "execute_result"
    }
   ],
   "source": [
    "np.allclose(x_gate, x_gate.conj().T)"
   ]
  },
  {
   "cell_type": "code",
   "execution_count": 19,
   "id": "638d9dd0-1354-474b-a9bb-d4fb2bc13d37",
   "metadata": {},
   "outputs": [
    {
     "data": {
      "text/plain": [
       "True"
      ]
     },
     "execution_count": 19,
     "metadata": {},
     "output_type": "execute_result"
    }
   ],
   "source": [
    "np.allclose(z_gate, z_gate.conj().T)"
   ]
  },
  {
   "cell_type": "markdown",
   "id": "dc732222",
   "metadata": {},
   "source": [
    "Eigenvalues of a hermition matrix (operator) (gate) represent the energy of the system in respect to the operator."
   ]
  },
  {
   "cell_type": "code",
   "execution_count": 20,
   "id": "ff234e7e",
   "metadata": {},
   "outputs": [
    {
     "data": {
      "text/plain": [
       "array([ 1., -1.])"
      ]
     },
     "execution_count": 20,
     "metadata": {},
     "output_type": "execute_result"
    }
   ],
   "source": [
    "np.linalg.eigvals(z_gate).real"
   ]
  },
  {
   "cell_type": "markdown",
   "id": "28ec561b",
   "metadata": {},
   "source": [
    "- The maximum energy for ZGate is `1`.\n",
    "- The minimum energy for ZGate is `-1`."
   ]
  },
  {
   "cell_type": "markdown",
   "id": "53b3f1e4",
   "metadata": {},
   "source": [
    "---"
   ]
  },
  {
   "cell_type": "markdown",
   "id": "55f9a5f4",
   "metadata": {},
   "source": [
    "## Measurement"
   ]
  },
  {
   "cell_type": "code",
   "execution_count": 21,
   "id": "afb21dea-f954-4b4f-98e5-d8577f51a9c5",
   "metadata": {},
   "outputs": [
    {
     "data": {
      "text/latex": [
       "$$\n",
       "\n",
       "\\begin{bmatrix}\n",
       "0  \\\\\n",
       " 1  \\\\\n",
       " \\end{bmatrix}\n",
       "$$"
      ],
      "text/plain": [
       "<IPython.core.display.Latex object>"
      ]
     },
     "execution_count": 21,
     "metadata": {},
     "output_type": "execute_result"
    }
   ],
   "source": [
    "psi = x_gate @ zero_vector\n",
    "array_to_latex(psi)"
   ]
  },
  {
   "cell_type": "code",
   "execution_count": 22,
   "id": "cfa1369d",
   "metadata": {},
   "outputs": [
    {
     "data": {
      "text/latex": [
       "$$\n",
       "\n",
       "\\begin{bmatrix}\n",
       "\\frac{\\sqrt{2}}{2}  \\\\\n",
       " \\frac{\\sqrt{2}}{2}  \\\\\n",
       " \\end{bmatrix}\n",
       "$$"
      ],
      "text/plain": [
       "<IPython.core.display.Latex object>"
      ]
     },
     "execution_count": 22,
     "metadata": {},
     "output_type": "execute_result"
    }
   ],
   "source": [
    "hpsi  = h_gate @ zero_vector\n",
    "array_to_latex(hpsi)"
   ]
  },
  {
   "cell_type": "markdown",
   "id": "3376c2b4-bf51-4ee2-84ff-653ee6befb42",
   "metadata": {},
   "source": [
    "The expectation value of an observable (hermitian operator, hamiltonian) in this case it's $\\hat{o}$ is defined as: $\\langle 1| \\hat{o} |1\\rangle$\n",
    "- represent the energy of the system in respect to the operator $\\hat{o}$\n",
    "- Projection of the vector to the axis of the operator."
   ]
  },
  {
   "cell_type": "code",
   "execution_count": 23,
   "id": "cd339163-8d7c-430e-a7c0-c7ee8d59f0dc",
   "metadata": {},
   "outputs": [
    {
     "data": {
      "text/plain": [
       "array([[-1.]])"
      ]
     },
     "execution_count": 23,
     "metadata": {},
     "output_type": "execute_result"
    }
   ],
   "source": [
    "#### psi(one_vev) is aligned with the negative part of the z-axis. cos(180) = -1\n",
    "(psi.conj().T @ z_gate @ psi).real"
   ]
  },
  {
   "cell_type": "code",
   "execution_count": 24,
   "id": "537efd19",
   "metadata": {},
   "outputs": [
    {
     "data": {
      "text/plain": [
       "array([[0.]])"
      ]
     },
     "execution_count": 24,
     "metadata": {},
     "output_type": "execute_result"
    }
   ],
   "source": [
    "#### hpsi is orthogonal on the z-axis so the projection will be zero. cos(90) = 0\n",
    "(hpsi.conj().T @ z_gate @ hpsi).real"
   ]
  },
  {
   "cell_type": "code",
   "execution_count": 25,
   "id": "46b20010-26a3-4530-bd15-dc61f058e6ce",
   "metadata": {},
   "outputs": [
    {
     "data": {
      "text/plain": [
       "array([[1.]])"
      ]
     },
     "execution_count": 25,
     "metadata": {},
     "output_type": "execute_result"
    }
   ],
   "source": [
    "#### zero_vec is aligned with the z-axis. cos(0) = 1\n",
    "(zero_vector.conj().T @ z_gate @ zero_vector).real"
   ]
  },
  {
   "cell_type": "code",
   "execution_count": 26,
   "id": "a1cde0f4-624d-4ae3-8d34-c5bbbb718b05",
   "metadata": {},
   "outputs": [
    {
     "data": {
      "text/plain": [
       "array([[0.]])"
      ]
     },
     "execution_count": 26,
     "metadata": {},
     "output_type": "execute_result"
    }
   ],
   "source": [
    "#### zero_vec is orthogonal on the x-axis so the projection will be zero. cos(90) = 0\n",
    "(zero_vector.conj().T @ x_gate @ zero_vector).real"
   ]
  },
  {
   "cell_type": "code",
   "execution_count": 27,
   "id": "603437b3",
   "metadata": {},
   "outputs": [
    {
     "data": {
      "text/plain": [
       "array([[1.]])"
      ]
     },
     "execution_count": 27,
     "metadata": {},
     "output_type": "execute_result"
    }
   ],
   "source": [
    "#### hpsi is aligned on the x-axis so the projection will be one. cos(0) = 1\n",
    "(hpsi.conj().T @ x_gate @ hpsi).real"
   ]
  },
  {
   "cell_type": "code",
   "execution_count": 28,
   "id": "bc8c9a97-4c74-4458-8574-11d76eea4b68",
   "metadata": {},
   "outputs": [
    {
     "data": {
      "text/plain": [
       "array([[0.]])"
      ]
     },
     "execution_count": 28,
     "metadata": {},
     "output_type": "execute_result"
    }
   ],
   "source": [
    "#### one_vec is orthogonal on the x-axis so the projection will be zero. cos(90) = 0\n",
    "(one_vector.conj().T @ x_gate @ one_vector).real"
   ]
  },
  {
   "cell_type": "code",
   "execution_count": 29,
   "id": "566348bc-fe4e-4629-a263-969aad3a63fd",
   "metadata": {},
   "outputs": [
    {
     "data": {
      "text/plain": [
       "array([[0.]])"
      ]
     },
     "execution_count": 29,
     "metadata": {},
     "output_type": "execute_result"
    }
   ],
   "source": [
    "#### one_vec is orthogonal on the y-axis so the projection will be zero. cos(90) = 0\n",
    "(one_vector.conj().T @ y_gate @ one_vector).real"
   ]
  },
  {
   "cell_type": "markdown",
   "id": "70dd2590-bf9b-4544-827d-497bb49e1f93",
   "metadata": {},
   "source": [
    "##### Q. How can you measure the zero_vector defined in this notebook on the x-basis while avoiding getting zeros all the time?\n",
    "\n",
    "No, We can't because zero_vec is orthogonal on the x-axis so the projection will be zero. cos(90) = 0\n",
    "\n"
   ]
  },
  {
   "cell_type": "markdown",
   "id": "349b6d91",
   "metadata": {},
   "source": [
    "## Encode and Measure the same datapoint"
   ]
  },
  {
   "cell_type": "code",
   "execution_count": 30,
   "id": "0a86e483-00ff-4ff0-b5b8-2a812eae7226",
   "metadata": {},
   "outputs": [
    {
     "data": {
      "text/latex": [
       "$$\n",
       "\n",
       "\\begin{bmatrix}\n",
       "0.9689124217  \\\\\n",
       " - 0.2474039593 i  \\\\\n",
       " \\end{bmatrix}\n",
       "$$"
      ],
      "text/plain": [
       "<IPython.core.display.Latex object>"
      ]
     },
     "execution_count": 30,
     "metadata": {},
     "output_type": "execute_result"
    }
   ],
   "source": [
    "num = .5\n",
    "rx_gate = RXGate(num).to_matrix()\n",
    "# rx_gate = RXGate(np.pi / 8).to_matrix()\n",
    "# array_to_latex(rx_gate)\n",
    "encoded = rx_gate @ zero_vector\n",
    "array_to_latex(encoded)"
   ]
  },
  {
   "cell_type": "code",
   "execution_count": 31,
   "id": "7f3c7c1c",
   "metadata": {},
   "outputs": [],
   "source": [
    "measured = (encoded.conj().T @ z_gate @ encoded).real"
   ]
  },
  {
   "cell_type": "code",
   "execution_count": 32,
   "id": "e1df4336",
   "metadata": {},
   "outputs": [],
   "source": [
    "ret = math.acos(measured)"
   ]
  },
  {
   "cell_type": "code",
   "execution_count": 33,
   "id": "1fdc4cb1",
   "metadata": {},
   "outputs": [
    {
     "data": {
      "text/plain": [
       "True"
      ]
     },
     "execution_count": 33,
     "metadata": {},
     "output_type": "execute_result"
    }
   ],
   "source": [
    "np.allclose(num, ret)"
   ]
  },
  {
   "cell_type": "code",
   "execution_count": 34,
   "id": "d15f50a4",
   "metadata": {},
   "outputs": [
    {
     "data": {
      "text/plain": [
       "(2, 2)"
      ]
     },
     "execution_count": 34,
     "metadata": {},
     "output_type": "execute_result"
    }
   ],
   "source": [
    "# hamiltonian or Observable\n",
    "z_gate = ZGate().to_matrix()\n",
    "y_gate = YGate().to_matrix()\n",
    "x_gate = XGate().to_matrix()\n",
    "\n",
    "z_gate.shape"
   ]
  },
  {
   "cell_type": "code",
   "execution_count": null,
   "id": "19f3e999",
   "metadata": {},
   "outputs": [],
   "source": []
  },
  {
   "cell_type": "code",
   "execution_count": null,
   "id": "9d2ca3cf",
   "metadata": {},
   "outputs": [],
   "source": []
  },
  {
   "cell_type": "markdown",
   "id": "4c3774c9",
   "metadata": {},
   "source": [
    "---\n",
    "$$ Good \\space Luck ✨$$ "
   ]
  }
 ],
 "metadata": {
  "kernelspec": {
   "display_name": "Python 3 (ipykernel)",
   "language": "python",
   "name": "python3"
  },
  "language_info": {
   "codemirror_mode": {
    "name": "ipython",
    "version": 3
   },
   "file_extension": ".py",
   "mimetype": "text/x-python",
   "name": "python",
   "nbconvert_exporter": "python",
   "pygments_lexer": "ipython3",
   "version": "3.10.3"
  }
 },
 "nbformat": 4,
 "nbformat_minor": 5
}
